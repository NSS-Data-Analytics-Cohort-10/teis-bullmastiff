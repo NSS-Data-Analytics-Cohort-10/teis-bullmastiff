{
 "cells": [
  {
   "cell_type": "code",
   "execution_count": 1,
   "id": "061f6110-33dc-4500-8585-70fc142928e8",
   "metadata": {},
   "outputs": [],
   "source": [
    "from sqlalchemy import create_engine, text\n",
    "import pandas as pd\n",
    "import numpy as np\n",
    "from matplotlib import pyplot as plt\n",
    "import seaborn as sns\n",
    "from numpy import cos, sin, arcsin, sqrt\n",
    "from math import radians\n",
    "import geopandas as gpd\n",
    "import folium\n",
    "from folium.plugins import MarkerCluster\n",
    "from folium.plugins import FastMarkerCluster"
   ]
  },
  {
   "cell_type": "code",
   "execution_count": 2,
   "id": "7cfde4a0-6dd3-4523-96d3-111763f1c45e",
   "metadata": {},
   "outputs": [
    {
     "name": "stderr",
     "output_type": "stream",
     "text": [
      "C:\\Users\\joyce\\AppData\\Local\\Temp\\ipykernel_67404\\3834847627.py:1: DtypeWarning: Columns (0,43) have mixed types. Specify dtype option on import or set low_memory=False.\n",
      "  all= df = pd.read_csv('../data/BDI3 All Evals for NSS 11-2023.xlsx - Eligibility Evals_03DB4A0D-67C6 (1).csv')\n"
     ]
    },
    {
     "data": {
      "text/html": [
       "<div>\n",
       "<style scoped>\n",
       "    .dataframe tbody tr th:only-of-type {\n",
       "        vertical-align: middle;\n",
       "    }\n",
       "\n",
       "    .dataframe tbody tr th {\n",
       "        vertical-align: top;\n",
       "    }\n",
       "\n",
       "    .dataframe thead th {\n",
       "        text-align: right;\n",
       "    }\n",
       "</style>\n",
       "<table border=\"1\" class=\"dataframe\">\n",
       "  <thead>\n",
       "    <tr style=\"text-align: right;\">\n",
       "      <th></th>\n",
       "      <th>Child ID</th>\n",
       "      <th>Gender</th>\n",
       "      <th>Date of Birth</th>\n",
       "      <th>Location - Sub Level 1</th>\n",
       "      <th>Program Label</th>\n",
       "      <th>Adaptive Sum of Scaled Scores</th>\n",
       "      <th>Adaptive Developmental Quotient</th>\n",
       "      <th>Adaptive Percentile Rank</th>\n",
       "      <th>Adaptive 95% Confidence Interval</th>\n",
       "      <th>Adaptive RDI</th>\n",
       "      <th>...</th>\n",
       "      <th>Code 1</th>\n",
       "      <th>Code 2</th>\n",
       "      <th>Code 3</th>\n",
       "      <th>Code 4</th>\n",
       "      <th>Code 5</th>\n",
       "      <th>Code 6</th>\n",
       "      <th>Code 7</th>\n",
       "      <th>Code 8</th>\n",
       "      <th>Code 9</th>\n",
       "      <th>Code 10</th>\n",
       "    </tr>\n",
       "  </thead>\n",
       "  <tbody>\n",
       "    <tr>\n",
       "      <th>0</th>\n",
       "      <td>44879</td>\n",
       "      <td>F</td>\n",
       "      <td>9/27/2022</td>\n",
       "      <td>Southwest</td>\n",
       "      <td>BDI-3 Eligibility Evaluation</td>\n",
       "      <td>7.0</td>\n",
       "      <td>85.0</td>\n",
       "      <td>16</td>\n",
       "      <td>77-97</td>\n",
       "      <td>39/90</td>\n",
       "      <td>...</td>\n",
       "      <td>NaN</td>\n",
       "      <td>NaN</td>\n",
       "      <td>NaN</td>\n",
       "      <td>NaN</td>\n",
       "      <td>NaN</td>\n",
       "      <td>NaN</td>\n",
       "      <td>NaN</td>\n",
       "      <td>NaN</td>\n",
       "      <td>NaN</td>\n",
       "      <td>NaN</td>\n",
       "    </tr>\n",
       "    <tr>\n",
       "      <th>1</th>\n",
       "      <td>47795</td>\n",
       "      <td>F</td>\n",
       "      <td>12/23/2020</td>\n",
       "      <td>Greater Nashville</td>\n",
       "      <td>BDI-3 Eligibility Evaluation</td>\n",
       "      <td>16.0</td>\n",
       "      <td>88.0</td>\n",
       "      <td>21</td>\n",
       "      <td>82-96</td>\n",
       "      <td>79/90</td>\n",
       "      <td>...</td>\n",
       "      <td>NaN</td>\n",
       "      <td>NaN</td>\n",
       "      <td>NaN</td>\n",
       "      <td>NaN</td>\n",
       "      <td>NaN</td>\n",
       "      <td>NaN</td>\n",
       "      <td>NaN</td>\n",
       "      <td>NaN</td>\n",
       "      <td>NaN</td>\n",
       "      <td>NaN</td>\n",
       "    </tr>\n",
       "    <tr>\n",
       "      <th>2</th>\n",
       "      <td>54340</td>\n",
       "      <td>M</td>\n",
       "      <td>6/22/2021</td>\n",
       "      <td>First Tennessee</td>\n",
       "      <td>BDI-3 Eligibility Evaluation</td>\n",
       "      <td>8.0</td>\n",
       "      <td>90.0</td>\n",
       "      <td>25</td>\n",
       "      <td>81-101</td>\n",
       "      <td>77/90</td>\n",
       "      <td>...</td>\n",
       "      <td>NaN</td>\n",
       "      <td>NaN</td>\n",
       "      <td>NaN</td>\n",
       "      <td>NaN</td>\n",
       "      <td>NaN</td>\n",
       "      <td>NaN</td>\n",
       "      <td>NaN</td>\n",
       "      <td>NaN</td>\n",
       "      <td>NaN</td>\n",
       "      <td>NaN</td>\n",
       "    </tr>\n",
       "    <tr>\n",
       "      <th>3</th>\n",
       "      <td>54344</td>\n",
       "      <td>F</td>\n",
       "      <td>3/7/2022</td>\n",
       "      <td>Southeast Tennessee</td>\n",
       "      <td>BDI-3 Eligibility Evaluation</td>\n",
       "      <td>13.0</td>\n",
       "      <td>115.0</td>\n",
       "      <td>84</td>\n",
       "      <td>103-123</td>\n",
       "      <td>99/90</td>\n",
       "      <td>...</td>\n",
       "      <td>NaN</td>\n",
       "      <td>NaN</td>\n",
       "      <td>NaN</td>\n",
       "      <td>NaN</td>\n",
       "      <td>NaN</td>\n",
       "      <td>NaN</td>\n",
       "      <td>NaN</td>\n",
       "      <td>NaN</td>\n",
       "      <td>NaN</td>\n",
       "      <td>NaN</td>\n",
       "    </tr>\n",
       "    <tr>\n",
       "      <th>4</th>\n",
       "      <td>54515</td>\n",
       "      <td>M</td>\n",
       "      <td>11/4/2021</td>\n",
       "      <td>Memphis Delta</td>\n",
       "      <td>BDI-3 Eligibility Evaluation</td>\n",
       "      <td>5.0</td>\n",
       "      <td>75.0</td>\n",
       "      <td>5</td>\n",
       "      <td>68-88</td>\n",
       "      <td>Sep-90</td>\n",
       "      <td>...</td>\n",
       "      <td>NaN</td>\n",
       "      <td>NaN</td>\n",
       "      <td>NaN</td>\n",
       "      <td>NaN</td>\n",
       "      <td>NaN</td>\n",
       "      <td>NaN</td>\n",
       "      <td>NaN</td>\n",
       "      <td>NaN</td>\n",
       "      <td>NaN</td>\n",
       "      <td>NaN</td>\n",
       "    </tr>\n",
       "    <tr>\n",
       "      <th>...</th>\n",
       "      <td>...</td>\n",
       "      <td>...</td>\n",
       "      <td>...</td>\n",
       "      <td>...</td>\n",
       "      <td>...</td>\n",
       "      <td>...</td>\n",
       "      <td>...</td>\n",
       "      <td>...</td>\n",
       "      <td>...</td>\n",
       "      <td>...</td>\n",
       "      <td>...</td>\n",
       "      <td>...</td>\n",
       "      <td>...</td>\n",
       "      <td>...</td>\n",
       "      <td>...</td>\n",
       "      <td>...</td>\n",
       "      <td>...</td>\n",
       "      <td>...</td>\n",
       "      <td>...</td>\n",
       "      <td>...</td>\n",
       "      <td>...</td>\n",
       "    </tr>\n",
       "    <tr>\n",
       "      <th>23942</th>\n",
       "      <td>SP03287</td>\n",
       "      <td>F</td>\n",
       "      <td>9/25/2023</td>\n",
       "      <td>Memphis Delta</td>\n",
       "      <td>BDI-3 Eligibility Evaluation</td>\n",
       "      <td>13.0</td>\n",
       "      <td>115.0</td>\n",
       "      <td>84</td>\n",
       "      <td>103-123</td>\n",
       "      <td>99/90</td>\n",
       "      <td>...</td>\n",
       "      <td>NaN</td>\n",
       "      <td>NaN</td>\n",
       "      <td>NaN</td>\n",
       "      <td>NaN</td>\n",
       "      <td>NaN</td>\n",
       "      <td>NaN</td>\n",
       "      <td>NaN</td>\n",
       "      <td>NaN</td>\n",
       "      <td>NaN</td>\n",
       "      <td>NaN</td>\n",
       "    </tr>\n",
       "    <tr>\n",
       "      <th>23943</th>\n",
       "      <td>SP03288</td>\n",
       "      <td>F</td>\n",
       "      <td>5/18/2021</td>\n",
       "      <td>South Central</td>\n",
       "      <td>BDI-3 Eligibility Evaluation</td>\n",
       "      <td>25.0</td>\n",
       "      <td>115.0</td>\n",
       "      <td>84</td>\n",
       "      <td>107-121</td>\n",
       "      <td>96/90</td>\n",
       "      <td>...</td>\n",
       "      <td>NaN</td>\n",
       "      <td>NaN</td>\n",
       "      <td>NaN</td>\n",
       "      <td>NaN</td>\n",
       "      <td>NaN</td>\n",
       "      <td>NaN</td>\n",
       "      <td>NaN</td>\n",
       "      <td>NaN</td>\n",
       "      <td>NaN</td>\n",
       "      <td>NaN</td>\n",
       "    </tr>\n",
       "    <tr>\n",
       "      <th>23944</th>\n",
       "      <td>SP03289</td>\n",
       "      <td>F</td>\n",
       "      <td>10/31/2021</td>\n",
       "      <td>South Central</td>\n",
       "      <td>BDI-3 Eligibility Evaluation</td>\n",
       "      <td>21.0</td>\n",
       "      <td>103.0</td>\n",
       "      <td>58</td>\n",
       "      <td>96-110</td>\n",
       "      <td>92/90</td>\n",
       "      <td>...</td>\n",
       "      <td>NaN</td>\n",
       "      <td>NaN</td>\n",
       "      <td>NaN</td>\n",
       "      <td>NaN</td>\n",
       "      <td>NaN</td>\n",
       "      <td>NaN</td>\n",
       "      <td>NaN</td>\n",
       "      <td>NaN</td>\n",
       "      <td>NaN</td>\n",
       "      <td>NaN</td>\n",
       "    </tr>\n",
       "    <tr>\n",
       "      <th>23945</th>\n",
       "      <td>SP03290</td>\n",
       "      <td>M</td>\n",
       "      <td>3/25/2020</td>\n",
       "      <td>Memphis Delta</td>\n",
       "      <td>BDI-3 Annual Evaluation</td>\n",
       "      <td>16.0</td>\n",
       "      <td>88.0</td>\n",
       "      <td>21</td>\n",
       "      <td>82-96</td>\n",
       "      <td>66/90</td>\n",
       "      <td>...</td>\n",
       "      <td>NaN</td>\n",
       "      <td>NaN</td>\n",
       "      <td>NaN</td>\n",
       "      <td>NaN</td>\n",
       "      <td>NaN</td>\n",
       "      <td>NaN</td>\n",
       "      <td>NaN</td>\n",
       "      <td>NaN</td>\n",
       "      <td>NaN</td>\n",
       "      <td>NaN</td>\n",
       "    </tr>\n",
       "    <tr>\n",
       "      <th>23946</th>\n",
       "      <td>SP03291</td>\n",
       "      <td>M</td>\n",
       "      <td>9/18/2023</td>\n",
       "      <td>Greater Nashville</td>\n",
       "      <td>BDI-3 Eligibility Evaluation</td>\n",
       "      <td>11.0</td>\n",
       "      <td>105.0</td>\n",
       "      <td>63</td>\n",
       "      <td>94-114</td>\n",
       "      <td>94/90</td>\n",
       "      <td>...</td>\n",
       "      <td>NaN</td>\n",
       "      <td>NaN</td>\n",
       "      <td>NaN</td>\n",
       "      <td>NaN</td>\n",
       "      <td>NaN</td>\n",
       "      <td>NaN</td>\n",
       "      <td>NaN</td>\n",
       "      <td>NaN</td>\n",
       "      <td>NaN</td>\n",
       "      <td>NaN</td>\n",
       "    </tr>\n",
       "  </tbody>\n",
       "</table>\n",
       "<p>23947 rows × 219 columns</p>\n",
       "</div>"
      ],
      "text/plain": [
       "      Child ID Gender Date of Birth Location - Sub Level 1  \\\n",
       "0        44879      F     9/27/2022              Southwest   \n",
       "1        47795      F    12/23/2020      Greater Nashville   \n",
       "2        54340      M     6/22/2021        First Tennessee   \n",
       "3        54344      F      3/7/2022    Southeast Tennessee   \n",
       "4        54515      M     11/4/2021          Memphis Delta   \n",
       "...        ...    ...           ...                    ...   \n",
       "23942  SP03287      F     9/25/2023          Memphis Delta   \n",
       "23943  SP03288      F     5/18/2021          South Central   \n",
       "23944  SP03289      F    10/31/2021          South Central   \n",
       "23945  SP03290      M     3/25/2020          Memphis Delta   \n",
       "23946  SP03291      M     9/18/2023      Greater Nashville   \n",
       "\n",
       "                      Program Label  Adaptive Sum of Scaled Scores  \\\n",
       "0      BDI-3 Eligibility Evaluation                            7.0   \n",
       "1      BDI-3 Eligibility Evaluation                           16.0   \n",
       "2      BDI-3 Eligibility Evaluation                            8.0   \n",
       "3      BDI-3 Eligibility Evaluation                           13.0   \n",
       "4      BDI-3 Eligibility Evaluation                            5.0   \n",
       "...                             ...                            ...   \n",
       "23942  BDI-3 Eligibility Evaluation                           13.0   \n",
       "23943  BDI-3 Eligibility Evaluation                           25.0   \n",
       "23944  BDI-3 Eligibility Evaluation                           21.0   \n",
       "23945       BDI-3 Annual Evaluation                           16.0   \n",
       "23946  BDI-3 Eligibility Evaluation                           11.0   \n",
       "\n",
       "       Adaptive Developmental Quotient Adaptive Percentile Rank  \\\n",
       "0                                 85.0                       16   \n",
       "1                                 88.0                       21   \n",
       "2                                 90.0                       25   \n",
       "3                                115.0                       84   \n",
       "4                                 75.0                        5   \n",
       "...                                ...                      ...   \n",
       "23942                            115.0                       84   \n",
       "23943                            115.0                       84   \n",
       "23944                            103.0                       58   \n",
       "23945                             88.0                       21   \n",
       "23946                            105.0                       63   \n",
       "\n",
       "      Adaptive 95% Confidence Interval Adaptive RDI  ... Code 1  Code 2  \\\n",
       "0                                77-97        39/90  ...    NaN     NaN   \n",
       "1                                82-96        79/90  ...    NaN     NaN   \n",
       "2                               81-101        77/90  ...    NaN     NaN   \n",
       "3                              103-123        99/90  ...    NaN     NaN   \n",
       "4                                68-88       Sep-90  ...    NaN     NaN   \n",
       "...                                ...          ...  ...    ...     ...   \n",
       "23942                          103-123        99/90  ...    NaN     NaN   \n",
       "23943                          107-121        96/90  ...    NaN     NaN   \n",
       "23944                           96-110        92/90  ...    NaN     NaN   \n",
       "23945                            82-96        66/90  ...    NaN     NaN   \n",
       "23946                           94-114        94/90  ...    NaN     NaN   \n",
       "\n",
       "      Code 3  Code 4  Code 5 Code 6 Code 7 Code 8 Code 9  Code 10  \n",
       "0        NaN     NaN     NaN    NaN    NaN    NaN    NaN      NaN  \n",
       "1        NaN     NaN     NaN    NaN    NaN    NaN    NaN      NaN  \n",
       "2        NaN     NaN     NaN    NaN    NaN    NaN    NaN      NaN  \n",
       "3        NaN     NaN     NaN    NaN    NaN    NaN    NaN      NaN  \n",
       "4        NaN     NaN     NaN    NaN    NaN    NaN    NaN      NaN  \n",
       "...      ...     ...     ...    ...    ...    ...    ...      ...  \n",
       "23942    NaN     NaN     NaN    NaN    NaN    NaN    NaN      NaN  \n",
       "23943    NaN     NaN     NaN    NaN    NaN    NaN    NaN      NaN  \n",
       "23944    NaN     NaN     NaN    NaN    NaN    NaN    NaN      NaN  \n",
       "23945    NaN     NaN     NaN    NaN    NaN    NaN    NaN      NaN  \n",
       "23946    NaN     NaN     NaN    NaN    NaN    NaN    NaN      NaN  \n",
       "\n",
       "[23947 rows x 219 columns]"
      ]
     },
     "execution_count": 2,
     "metadata": {},
     "output_type": "execute_result"
    }
   ],
   "source": [
    "all= df = pd.read_csv('../data/BDI3 All Evals for NSS 11-2023.xlsx - Eligibility Evals_03DB4A0D-67C6 (1).csv')\n",
    "all"
   ]
  },
  {
   "cell_type": "code",
   "execution_count": 3,
   "id": "48948fed-9bc3-4a3f-9779-f10107bcaa55",
   "metadata": {},
   "outputs": [
    {
     "name": "stdout",
     "output_type": "stream",
     "text": [
      "<class 'pandas.core.frame.DataFrame'>\n",
      "RangeIndex: 23947 entries, 0 to 23946\n",
      "Columns: 219 entries, Child ID to Code 10\n",
      "dtypes: float64(79), object(140)\n",
      "memory usage: 40.0+ MB\n"
     ]
    }
   ],
   "source": [
    "all.info()"
   ]
  },
  {
   "cell_type": "code",
   "execution_count": 4,
   "id": "4f180c3e-bba8-4481-84d8-c8c0d68140a5",
   "metadata": {},
   "outputs": [
    {
     "data": {
      "text/plain": [
       "<bound method DataFrame.info of       Child ID Gender Date of Birth Location - Sub Level 1  \\\n",
       "0        44879      F     9/27/2022              Southwest   \n",
       "1        47795      F    12/23/2020      Greater Nashville   \n",
       "2        54340      M     6/22/2021        First Tennessee   \n",
       "3        54344      F      3/7/2022    Southeast Tennessee   \n",
       "4        54515      M     11/4/2021          Memphis Delta   \n",
       "...        ...    ...           ...                    ...   \n",
       "23942  SP03287      F     9/25/2023          Memphis Delta   \n",
       "23943  SP03288      F     5/18/2021          South Central   \n",
       "23944  SP03289      F    10/31/2021          South Central   \n",
       "23945  SP03290      M     3/25/2020          Memphis Delta   \n",
       "23946  SP03291      M     9/18/2023      Greater Nashville   \n",
       "\n",
       "                      Program Label  Adaptive Sum of Scaled Scores  \\\n",
       "0      BDI-3 Eligibility Evaluation                            7.0   \n",
       "1      BDI-3 Eligibility Evaluation                           16.0   \n",
       "2      BDI-3 Eligibility Evaluation                            8.0   \n",
       "3      BDI-3 Eligibility Evaluation                           13.0   \n",
       "4      BDI-3 Eligibility Evaluation                            5.0   \n",
       "...                             ...                            ...   \n",
       "23942  BDI-3 Eligibility Evaluation                           13.0   \n",
       "23943  BDI-3 Eligibility Evaluation                           25.0   \n",
       "23944  BDI-3 Eligibility Evaluation                           21.0   \n",
       "23945       BDI-3 Annual Evaluation                           16.0   \n",
       "23946  BDI-3 Eligibility Evaluation                           11.0   \n",
       "\n",
       "       Adaptive Developmental Quotient Adaptive Percentile Rank  \\\n",
       "0                                 85.0                       16   \n",
       "1                                 88.0                       21   \n",
       "2                                 90.0                       25   \n",
       "3                                115.0                       84   \n",
       "4                                 75.0                        5   \n",
       "...                                ...                      ...   \n",
       "23942                            115.0                       84   \n",
       "23943                            115.0                       84   \n",
       "23944                            103.0                       58   \n",
       "23945                             88.0                       21   \n",
       "23946                            105.0                       63   \n",
       "\n",
       "      Adaptive 95% Confidence Interval Adaptive RDI  ... Code 1  Code 2  \\\n",
       "0                                77-97        39/90  ...    NaN     NaN   \n",
       "1                                82-96        79/90  ...    NaN     NaN   \n",
       "2                               81-101        77/90  ...    NaN     NaN   \n",
       "3                              103-123        99/90  ...    NaN     NaN   \n",
       "4                                68-88       Sep-90  ...    NaN     NaN   \n",
       "...                                ...          ...  ...    ...     ...   \n",
       "23942                          103-123        99/90  ...    NaN     NaN   \n",
       "23943                          107-121        96/90  ...    NaN     NaN   \n",
       "23944                           96-110        92/90  ...    NaN     NaN   \n",
       "23945                            82-96        66/90  ...    NaN     NaN   \n",
       "23946                           94-114        94/90  ...    NaN     NaN   \n",
       "\n",
       "      Code 3  Code 4  Code 5 Code 6 Code 7 Code 8 Code 9  Code 10  \n",
       "0        NaN     NaN     NaN    NaN    NaN    NaN    NaN      NaN  \n",
       "1        NaN     NaN     NaN    NaN    NaN    NaN    NaN      NaN  \n",
       "2        NaN     NaN     NaN    NaN    NaN    NaN    NaN      NaN  \n",
       "3        NaN     NaN     NaN    NaN    NaN    NaN    NaN      NaN  \n",
       "4        NaN     NaN     NaN    NaN    NaN    NaN    NaN      NaN  \n",
       "...      ...     ...     ...    ...    ...    ...    ...      ...  \n",
       "23942    NaN     NaN     NaN    NaN    NaN    NaN    NaN      NaN  \n",
       "23943    NaN     NaN     NaN    NaN    NaN    NaN    NaN      NaN  \n",
       "23944    NaN     NaN     NaN    NaN    NaN    NaN    NaN      NaN  \n",
       "23945    NaN     NaN     NaN    NaN    NaN    NaN    NaN      NaN  \n",
       "23946    NaN     NaN     NaN    NaN    NaN    NaN    NaN      NaN  \n",
       "\n",
       "[23947 rows x 219 columns]>"
      ]
     },
     "execution_count": 4,
     "metadata": {},
     "output_type": "execute_result"
    }
   ],
   "source": [
    "all.info"
   ]
  },
  {
   "cell_type": "code",
   "execution_count": 10,
   "id": "770aec59-9df6-4262-9f4f-0b9fc0ea95c3",
   "metadata": {},
   "outputs": [
    {
     "ename": "TypeError",
     "evalue": "strptime() argument 1 must be str, not Timestamp",
     "output_type": "error",
     "traceback": [
      "\u001b[1;31m---------------------------------------------------------------------------\u001b[0m",
      "\u001b[1;31mTypeError\u001b[0m                                 Traceback (most recent call last)",
      "Cell \u001b[1;32mIn[10], line 2\u001b[0m\n\u001b[0;32m      1\u001b[0m \u001b[38;5;28;01mfrom\u001b[39;00m \u001b[38;5;21;01mdatetime\u001b[39;00m \u001b[38;5;28;01mimport\u001b[39;00m datetime\n\u001b[1;32m----> 2\u001b[0m \u001b[38;5;28mall\u001b[39m[\u001b[38;5;124m'\u001b[39m\u001b[38;5;124mDate of Birth\u001b[39m\u001b[38;5;124m'\u001b[39m]\u001b[38;5;241m=\u001b[39m\u001b[38;5;28;43mall\u001b[39;49m\u001b[43m[\u001b[49m\u001b[38;5;124;43m'\u001b[39;49m\u001b[38;5;124;43mDate of Birth\u001b[39;49m\u001b[38;5;124;43m'\u001b[39;49m\u001b[43m]\u001b[49m\u001b[38;5;241;43m.\u001b[39;49m\u001b[43mapply\u001b[49m\u001b[43m(\u001b[49m\u001b[38;5;28;43;01mlambda\u001b[39;49;00m\u001b[43m \u001b[49m\u001b[43mx\u001b[49m\u001b[43m:\u001b[49m\u001b[43m \u001b[49m\u001b[43mdatetime\u001b[49m\u001b[38;5;241;43m.\u001b[39;49m\u001b[43mstrptime\u001b[49m\u001b[43m(\u001b[49m\u001b[43mx\u001b[49m\u001b[43m,\u001b[49m\u001b[43m \u001b[49m\u001b[38;5;124;43m'\u001b[39;49m\u001b[38;5;124;43m%\u001b[39;49m\u001b[38;5;124;43mm/\u001b[39;49m\u001b[38;5;132;43;01m%d\u001b[39;49;00m\u001b[38;5;124;43m/\u001b[39;49m\u001b[38;5;124;43m%\u001b[39;49m\u001b[38;5;124;43mY\u001b[39;49m\u001b[38;5;124;43m'\u001b[39;49m\u001b[43m)\u001b[49m\u001b[43m)\u001b[49m\n\u001b[0;32m      3\u001b[0m oldest\u001b[38;5;241m=\u001b[39m \u001b[38;5;28mmin\u001b[39m(\u001b[38;5;28mall\u001b[39m[\u001b[38;5;124m'\u001b[39m\u001b[38;5;124mDate of Birth\u001b[39m\u001b[38;5;124m'\u001b[39m])\n\u001b[0;32m      4\u001b[0m oldest\n",
      "File \u001b[1;32m~\\anaconda3\\envs\\scooters\\lib\\site-packages\\pandas\\core\\series.py:4764\u001b[0m, in \u001b[0;36mSeries.apply\u001b[1;34m(self, func, convert_dtype, args, by_row, **kwargs)\u001b[0m\n\u001b[0;32m   4629\u001b[0m \u001b[38;5;28;01mdef\u001b[39;00m \u001b[38;5;21mapply\u001b[39m(\n\u001b[0;32m   4630\u001b[0m     \u001b[38;5;28mself\u001b[39m,\n\u001b[0;32m   4631\u001b[0m     func: AggFuncType,\n\u001b[1;32m   (...)\u001b[0m\n\u001b[0;32m   4636\u001b[0m     \u001b[38;5;241m*\u001b[39m\u001b[38;5;241m*\u001b[39mkwargs,\n\u001b[0;32m   4637\u001b[0m ) \u001b[38;5;241m-\u001b[39m\u001b[38;5;241m>\u001b[39m DataFrame \u001b[38;5;241m|\u001b[39m Series:\n\u001b[0;32m   4638\u001b[0m \u001b[38;5;250m    \u001b[39m\u001b[38;5;124;03m\"\"\"\u001b[39;00m\n\u001b[0;32m   4639\u001b[0m \u001b[38;5;124;03m    Invoke function on values of Series.\u001b[39;00m\n\u001b[0;32m   4640\u001b[0m \n\u001b[1;32m   (...)\u001b[0m\n\u001b[0;32m   4755\u001b[0m \u001b[38;5;124;03m    dtype: float64\u001b[39;00m\n\u001b[0;32m   4756\u001b[0m \u001b[38;5;124;03m    \"\"\"\u001b[39;00m\n\u001b[0;32m   4757\u001b[0m     \u001b[38;5;28;01mreturn\u001b[39;00m \u001b[43mSeriesApply\u001b[49m\u001b[43m(\u001b[49m\n\u001b[0;32m   4758\u001b[0m \u001b[43m        \u001b[49m\u001b[38;5;28;43mself\u001b[39;49m\u001b[43m,\u001b[49m\n\u001b[0;32m   4759\u001b[0m \u001b[43m        \u001b[49m\u001b[43mfunc\u001b[49m\u001b[43m,\u001b[49m\n\u001b[0;32m   4760\u001b[0m \u001b[43m        \u001b[49m\u001b[43mconvert_dtype\u001b[49m\u001b[38;5;241;43m=\u001b[39;49m\u001b[43mconvert_dtype\u001b[49m\u001b[43m,\u001b[49m\n\u001b[0;32m   4761\u001b[0m \u001b[43m        \u001b[49m\u001b[43mby_row\u001b[49m\u001b[38;5;241;43m=\u001b[39;49m\u001b[43mby_row\u001b[49m\u001b[43m,\u001b[49m\n\u001b[0;32m   4762\u001b[0m \u001b[43m        \u001b[49m\u001b[43margs\u001b[49m\u001b[38;5;241;43m=\u001b[39;49m\u001b[43margs\u001b[49m\u001b[43m,\u001b[49m\n\u001b[0;32m   4763\u001b[0m \u001b[43m        \u001b[49m\u001b[43mkwargs\u001b[49m\u001b[38;5;241;43m=\u001b[39;49m\u001b[43mkwargs\u001b[49m\u001b[43m,\u001b[49m\n\u001b[1;32m-> 4764\u001b[0m \u001b[43m    \u001b[49m\u001b[43m)\u001b[49m\u001b[38;5;241;43m.\u001b[39;49m\u001b[43mapply\u001b[49m\u001b[43m(\u001b[49m\u001b[43m)\u001b[49m\n",
      "File \u001b[1;32m~\\anaconda3\\envs\\scooters\\lib\\site-packages\\pandas\\core\\apply.py:1209\u001b[0m, in \u001b[0;36mSeriesApply.apply\u001b[1;34m(self)\u001b[0m\n\u001b[0;32m   1206\u001b[0m     \u001b[38;5;28;01mreturn\u001b[39;00m \u001b[38;5;28mself\u001b[39m\u001b[38;5;241m.\u001b[39mapply_compat()\n\u001b[0;32m   1208\u001b[0m \u001b[38;5;66;03m# self.func is Callable\u001b[39;00m\n\u001b[1;32m-> 1209\u001b[0m \u001b[38;5;28;01mreturn\u001b[39;00m \u001b[38;5;28;43mself\u001b[39;49m\u001b[38;5;241;43m.\u001b[39;49m\u001b[43mapply_standard\u001b[49m\u001b[43m(\u001b[49m\u001b[43m)\u001b[49m\n",
      "File \u001b[1;32m~\\anaconda3\\envs\\scooters\\lib\\site-packages\\pandas\\core\\apply.py:1289\u001b[0m, in \u001b[0;36mSeriesApply.apply_standard\u001b[1;34m(self)\u001b[0m\n\u001b[0;32m   1283\u001b[0m \u001b[38;5;66;03m# row-wise access\u001b[39;00m\n\u001b[0;32m   1284\u001b[0m \u001b[38;5;66;03m# apply doesn't have a `na_action` keyword and for backward compat reasons\u001b[39;00m\n\u001b[0;32m   1285\u001b[0m \u001b[38;5;66;03m# we need to give `na_action=\"ignore\"` for categorical data.\u001b[39;00m\n\u001b[0;32m   1286\u001b[0m \u001b[38;5;66;03m# TODO: remove the `na_action=\"ignore\"` when that default has been changed in\u001b[39;00m\n\u001b[0;32m   1287\u001b[0m \u001b[38;5;66;03m#  Categorical (GH51645).\u001b[39;00m\n\u001b[0;32m   1288\u001b[0m action \u001b[38;5;241m=\u001b[39m \u001b[38;5;124m\"\u001b[39m\u001b[38;5;124mignore\u001b[39m\u001b[38;5;124m\"\u001b[39m \u001b[38;5;28;01mif\u001b[39;00m \u001b[38;5;28misinstance\u001b[39m(obj\u001b[38;5;241m.\u001b[39mdtype, CategoricalDtype) \u001b[38;5;28;01melse\u001b[39;00m \u001b[38;5;28;01mNone\u001b[39;00m\n\u001b[1;32m-> 1289\u001b[0m mapped \u001b[38;5;241m=\u001b[39m \u001b[43mobj\u001b[49m\u001b[38;5;241;43m.\u001b[39;49m\u001b[43m_map_values\u001b[49m\u001b[43m(\u001b[49m\n\u001b[0;32m   1290\u001b[0m \u001b[43m    \u001b[49m\u001b[43mmapper\u001b[49m\u001b[38;5;241;43m=\u001b[39;49m\u001b[43mcurried\u001b[49m\u001b[43m,\u001b[49m\u001b[43m \u001b[49m\u001b[43mna_action\u001b[49m\u001b[38;5;241;43m=\u001b[39;49m\u001b[43maction\u001b[49m\u001b[43m,\u001b[49m\u001b[43m \u001b[49m\u001b[43mconvert\u001b[49m\u001b[38;5;241;43m=\u001b[39;49m\u001b[38;5;28;43mself\u001b[39;49m\u001b[38;5;241;43m.\u001b[39;49m\u001b[43mconvert_dtype\u001b[49m\n\u001b[0;32m   1291\u001b[0m \u001b[43m\u001b[49m\u001b[43m)\u001b[49m\n\u001b[0;32m   1293\u001b[0m \u001b[38;5;28;01mif\u001b[39;00m \u001b[38;5;28mlen\u001b[39m(mapped) \u001b[38;5;129;01mand\u001b[39;00m \u001b[38;5;28misinstance\u001b[39m(mapped[\u001b[38;5;241m0\u001b[39m], ABCSeries):\n\u001b[0;32m   1294\u001b[0m     \u001b[38;5;66;03m# GH#43986 Need to do list(mapped) in order to get treated as nested\u001b[39;00m\n\u001b[0;32m   1295\u001b[0m     \u001b[38;5;66;03m#  See also GH#25959 regarding EA support\u001b[39;00m\n\u001b[0;32m   1296\u001b[0m     \u001b[38;5;28;01mreturn\u001b[39;00m obj\u001b[38;5;241m.\u001b[39m_constructor_expanddim(\u001b[38;5;28mlist\u001b[39m(mapped), index\u001b[38;5;241m=\u001b[39mobj\u001b[38;5;241m.\u001b[39mindex)\n",
      "File \u001b[1;32m~\\anaconda3\\envs\\scooters\\lib\\site-packages\\pandas\\core\\base.py:919\u001b[0m, in \u001b[0;36mIndexOpsMixin._map_values\u001b[1;34m(self, mapper, na_action, convert)\u001b[0m\n\u001b[0;32m    916\u001b[0m arr \u001b[38;5;241m=\u001b[39m \u001b[38;5;28mself\u001b[39m\u001b[38;5;241m.\u001b[39m_values\n\u001b[0;32m    918\u001b[0m \u001b[38;5;28;01mif\u001b[39;00m \u001b[38;5;28misinstance\u001b[39m(arr, ExtensionArray):\n\u001b[1;32m--> 919\u001b[0m     \u001b[38;5;28;01mreturn\u001b[39;00m \u001b[43marr\u001b[49m\u001b[38;5;241;43m.\u001b[39;49m\u001b[43mmap\u001b[49m\u001b[43m(\u001b[49m\u001b[43mmapper\u001b[49m\u001b[43m,\u001b[49m\u001b[43m \u001b[49m\u001b[43mna_action\u001b[49m\u001b[38;5;241;43m=\u001b[39;49m\u001b[43mna_action\u001b[49m\u001b[43m)\u001b[49m\n\u001b[0;32m    921\u001b[0m \u001b[38;5;28;01mreturn\u001b[39;00m algorithms\u001b[38;5;241m.\u001b[39mmap_array(arr, mapper, na_action\u001b[38;5;241m=\u001b[39mna_action, convert\u001b[38;5;241m=\u001b[39mconvert)\n",
      "File \u001b[1;32m~\\anaconda3\\envs\\scooters\\lib\\site-packages\\pandas\\core\\arrays\\_mixins.py:80\u001b[0m, in \u001b[0;36mravel_compat.<locals>.method\u001b[1;34m(self, *args, **kwargs)\u001b[0m\n\u001b[0;32m     77\u001b[0m \u001b[38;5;129m@wraps\u001b[39m(meth)\n\u001b[0;32m     78\u001b[0m \u001b[38;5;28;01mdef\u001b[39;00m \u001b[38;5;21mmethod\u001b[39m(\u001b[38;5;28mself\u001b[39m, \u001b[38;5;241m*\u001b[39margs, \u001b[38;5;241m*\u001b[39m\u001b[38;5;241m*\u001b[39mkwargs):\n\u001b[0;32m     79\u001b[0m     \u001b[38;5;28;01mif\u001b[39;00m \u001b[38;5;28mself\u001b[39m\u001b[38;5;241m.\u001b[39mndim \u001b[38;5;241m==\u001b[39m \u001b[38;5;241m1\u001b[39m:\n\u001b[1;32m---> 80\u001b[0m         \u001b[38;5;28;01mreturn\u001b[39;00m meth(\u001b[38;5;28mself\u001b[39m, \u001b[38;5;241m*\u001b[39margs, \u001b[38;5;241m*\u001b[39m\u001b[38;5;241m*\u001b[39mkwargs)\n\u001b[0;32m     82\u001b[0m     flags \u001b[38;5;241m=\u001b[39m \u001b[38;5;28mself\u001b[39m\u001b[38;5;241m.\u001b[39m_ndarray\u001b[38;5;241m.\u001b[39mflags\n\u001b[0;32m     83\u001b[0m     flat \u001b[38;5;241m=\u001b[39m \u001b[38;5;28mself\u001b[39m\u001b[38;5;241m.\u001b[39mravel(\u001b[38;5;124m\"\u001b[39m\u001b[38;5;124mK\u001b[39m\u001b[38;5;124m\"\u001b[39m)\n",
      "File \u001b[1;32m~\\anaconda3\\envs\\scooters\\lib\\site-packages\\pandas\\core\\arrays\\datetimelike.py:723\u001b[0m, in \u001b[0;36mDatetimeLikeArrayMixin.map\u001b[1;34m(self, mapper, na_action)\u001b[0m\n\u001b[0;32m    719\u001b[0m \u001b[38;5;129m@ravel_compat\u001b[39m\n\u001b[0;32m    720\u001b[0m \u001b[38;5;28;01mdef\u001b[39;00m \u001b[38;5;21mmap\u001b[39m(\u001b[38;5;28mself\u001b[39m, mapper, na_action\u001b[38;5;241m=\u001b[39m\u001b[38;5;28;01mNone\u001b[39;00m):\n\u001b[0;32m    721\u001b[0m     \u001b[38;5;28;01mfrom\u001b[39;00m \u001b[38;5;21;01mpandas\u001b[39;00m \u001b[38;5;28;01mimport\u001b[39;00m Index\n\u001b[1;32m--> 723\u001b[0m     result \u001b[38;5;241m=\u001b[39m \u001b[43mmap_array\u001b[49m\u001b[43m(\u001b[49m\u001b[38;5;28;43mself\u001b[39;49m\u001b[43m,\u001b[49m\u001b[43m \u001b[49m\u001b[43mmapper\u001b[49m\u001b[43m,\u001b[49m\u001b[43m \u001b[49m\u001b[43mna_action\u001b[49m\u001b[38;5;241;43m=\u001b[39;49m\u001b[43mna_action\u001b[49m\u001b[43m)\u001b[49m\n\u001b[0;32m    724\u001b[0m     result \u001b[38;5;241m=\u001b[39m Index(result)\n\u001b[0;32m    726\u001b[0m     \u001b[38;5;28;01mif\u001b[39;00m \u001b[38;5;28misinstance\u001b[39m(result, ABCMultiIndex):\n",
      "File \u001b[1;32m~\\anaconda3\\envs\\scooters\\lib\\site-packages\\pandas\\core\\algorithms.py:1814\u001b[0m, in \u001b[0;36mmap_array\u001b[1;34m(arr, mapper, na_action, convert)\u001b[0m\n\u001b[0;32m   1812\u001b[0m values \u001b[38;5;241m=\u001b[39m arr\u001b[38;5;241m.\u001b[39mastype(\u001b[38;5;28mobject\u001b[39m, copy\u001b[38;5;241m=\u001b[39m\u001b[38;5;28;01mFalse\u001b[39;00m)\n\u001b[0;32m   1813\u001b[0m \u001b[38;5;28;01mif\u001b[39;00m na_action \u001b[38;5;129;01mis\u001b[39;00m \u001b[38;5;28;01mNone\u001b[39;00m:\n\u001b[1;32m-> 1814\u001b[0m     \u001b[38;5;28;01mreturn\u001b[39;00m \u001b[43mlib\u001b[49m\u001b[38;5;241;43m.\u001b[39;49m\u001b[43mmap_infer\u001b[49m\u001b[43m(\u001b[49m\u001b[43mvalues\u001b[49m\u001b[43m,\u001b[49m\u001b[43m \u001b[49m\u001b[43mmapper\u001b[49m\u001b[43m,\u001b[49m\u001b[43m \u001b[49m\u001b[43mconvert\u001b[49m\u001b[38;5;241;43m=\u001b[39;49m\u001b[43mconvert\u001b[49m\u001b[43m)\u001b[49m\n\u001b[0;32m   1815\u001b[0m \u001b[38;5;28;01melse\u001b[39;00m:\n\u001b[0;32m   1816\u001b[0m     \u001b[38;5;28;01mreturn\u001b[39;00m lib\u001b[38;5;241m.\u001b[39mmap_infer_mask(\n\u001b[0;32m   1817\u001b[0m         values, mapper, mask\u001b[38;5;241m=\u001b[39misna(values)\u001b[38;5;241m.\u001b[39mview(np\u001b[38;5;241m.\u001b[39muint8), convert\u001b[38;5;241m=\u001b[39mconvert\n\u001b[0;32m   1818\u001b[0m     )\n",
      "File \u001b[1;32mlib.pyx:2926\u001b[0m, in \u001b[0;36mpandas._libs.lib.map_infer\u001b[1;34m()\u001b[0m\n",
      "Cell \u001b[1;32mIn[10], line 2\u001b[0m, in \u001b[0;36m<lambda>\u001b[1;34m(x)\u001b[0m\n\u001b[0;32m      1\u001b[0m \u001b[38;5;28;01mfrom\u001b[39;00m \u001b[38;5;21;01mdatetime\u001b[39;00m \u001b[38;5;28;01mimport\u001b[39;00m datetime\n\u001b[1;32m----> 2\u001b[0m \u001b[38;5;28mall\u001b[39m[\u001b[38;5;124m'\u001b[39m\u001b[38;5;124mDate of Birth\u001b[39m\u001b[38;5;124m'\u001b[39m]\u001b[38;5;241m=\u001b[39m\u001b[38;5;28mall\u001b[39m[\u001b[38;5;124m'\u001b[39m\u001b[38;5;124mDate of Birth\u001b[39m\u001b[38;5;124m'\u001b[39m]\u001b[38;5;241m.\u001b[39mapply(\u001b[38;5;28;01mlambda\u001b[39;00m x: \u001b[43mdatetime\u001b[49m\u001b[38;5;241;43m.\u001b[39;49m\u001b[43mstrptime\u001b[49m\u001b[43m(\u001b[49m\u001b[43mx\u001b[49m\u001b[43m,\u001b[49m\u001b[43m \u001b[49m\u001b[38;5;124;43m'\u001b[39;49m\u001b[38;5;124;43m%\u001b[39;49m\u001b[38;5;124;43mm/\u001b[39;49m\u001b[38;5;132;43;01m%d\u001b[39;49;00m\u001b[38;5;124;43m/\u001b[39;49m\u001b[38;5;124;43m%\u001b[39;49m\u001b[38;5;124;43mY\u001b[39;49m\u001b[38;5;124;43m'\u001b[39;49m\u001b[43m)\u001b[49m)\n\u001b[0;32m      3\u001b[0m oldest\u001b[38;5;241m=\u001b[39m \u001b[38;5;28mmin\u001b[39m(\u001b[38;5;28mall\u001b[39m[\u001b[38;5;124m'\u001b[39m\u001b[38;5;124mDate of Birth\u001b[39m\u001b[38;5;124m'\u001b[39m])\n\u001b[0;32m      4\u001b[0m oldest\n",
      "\u001b[1;31mTypeError\u001b[0m: strptime() argument 1 must be str, not Timestamp"
     ]
    }
   ],
   "source": [
    "from datetime import datetime\n",
    "all['Date of Birth']=all['Date of Birth'].apply(lambda x: datetime.strptime(x, '%m/%d/%Y'))\n"
   ]
  },
  {
   "cell_type": "code",
   "execution_count": 11,
   "id": "c9f7cb7d-2fe6-4bb1-8f36-caa01a7df09e",
   "metadata": {},
   "outputs": [
    {
     "data": {
      "text/plain": [
       "Timestamp('2019-10-15 00:00:00')"
      ]
     },
     "execution_count": 11,
     "metadata": {},
     "output_type": "execute_result"
    }
   ],
   "source": [
    "oldest= min(all['Date of Birth'])\n",
    "oldest"
   ]
  },
  {
   "cell_type": "code",
   "execution_count": 12,
   "id": "0c715973-6547-46a4-af59-e442a346849e",
   "metadata": {},
   "outputs": [
    {
     "data": {
      "text/plain": [
       "Timestamp('2023-10-30 00:00:00')"
      ]
     },
     "execution_count": 12,
     "metadata": {},
     "output_type": "execute_result"
    }
   ],
   "source": [
    "youngest= max(all['Date of Birth'])\n",
    "youngest"
   ]
  },
  {
   "cell_type": "code",
   "execution_count": 26,
   "id": "858b4a39-f766-4d57-a11c-2d1d144febe8",
   "metadata": {},
   "outputs": [],
   "source": [
    "a_desc=all.iloc[:,6].describe()\n",
    "a_med=all.iloc[:,6].median()\n",
    "s_desc=all.iloc[:,14].describe()\n",
    "s_med=all.iloc[:,14].median()\n",
    "c_desc=all.iloc[:,22].describe()\n",
    "c_med=all.iloc[:,22].median()\n",
    "m_desc=all.iloc[:,30].describe()\n",
    "m_med=all.iloc[:,30].median()\n",
    "cog_desc=all.iloc[:,38].describe()\n",
    "cog_med=all.iloc[:,38].median()"
   ]
  },
  {
   "cell_type": "code",
   "execution_count": 29,
   "id": "865491d6-58c2-4a22-8049-bf97f7a5abba",
   "metadata": {},
   "outputs": [
    {
     "data": {
      "text/plain": [
       "[count    23939.000000\n",
       " mean        86.988304\n",
       " std         17.689509\n",
       " min         46.000000\n",
       " 25%         76.000000\n",
       " 50%         88.000000\n",
       " 75%        100.000000\n",
       " max        148.000000\n",
       " Name: Adaptive Developmental Quotient, dtype: float64,\n",
       " 88.0,\n",
       " count    23927.000000\n",
       " mean        94.293601\n",
       " std         16.819322\n",
       " min         46.000000\n",
       " 25%         84.000000\n",
       " 50%         94.000000\n",
       " 75%        106.000000\n",
       " max        154.000000\n",
       " Name: Social-Emotional Developmental Quotient, dtype: float64,\n",
       " 94.0,\n",
       " count    23912.000000\n",
       " mean        79.060723\n",
       " std         20.417259\n",
       " min         46.000000\n",
       " 25%         64.000000\n",
       " 50%         79.000000\n",
       " 75%         94.000000\n",
       " max        154.000000\n",
       " Name: Communication Developmental Quotient, dtype: float64,\n",
       " 79.0,\n",
       " count    23912.000000\n",
       " mean        93.875711\n",
       " std         17.731262\n",
       " min         42.000000\n",
       " 25%         83.000000\n",
       " 50%         96.000000\n",
       " 75%        106.000000\n",
       " max        154.000000\n",
       " Name: Motor Developmental Quotient, dtype: float64,\n",
       " 96.0,\n",
       " count    23926.000000\n",
       " mean        88.412188\n",
       " std         16.620340\n",
       " min         40.000000\n",
       " 25%         78.000000\n",
       " 50%         90.000000\n",
       " 75%        100.000000\n",
       " max        160.000000\n",
       " Name: Cognitive Developmental Quotient, dtype: float64,\n",
       " 90.0]"
      ]
     },
     "execution_count": 29,
     "metadata": {},
     "output_type": "execute_result"
    }
   ],
   "source": [
    "list=[a_desc,\n",
    "a_med,\n",
    "s_desc,\n",
    "s_med,\n",
    "c_desc,\n",
    "c_med,\n",
    "m_desc,\n",
    "m_med,\n",
    "cog_desc,\n",
    "cog_med]\n",
    "list"
   ]
  },
  {
   "cell_type": "markdown",
   "id": "13c53e1f-c24b-4ff4-8318-17ecafaba415",
   "metadata": {},
   "source": [
    "Motor Developmental Quotient- median score 96.0\n",
    "Communication Developmental Quotient median score 79.0"
   ]
  },
  {
   "cell_type": "code",
   "execution_count": 31,
   "id": "448c1dc1-6ace-4ee4-a29b-b07079ce203a",
   "metadata": {},
   "outputs": [
    {
     "data": {
      "text/plain": [
       "0       2022-09-27\n",
       "1       2020-12-23\n",
       "2       2021-06-22\n",
       "3       2022-03-07\n",
       "4       2021-11-04\n",
       "           ...    \n",
       "23942   2023-09-25\n",
       "23943   2021-05-18\n",
       "23944   2021-10-31\n",
       "23945   2020-03-25\n",
       "23946   2023-09-18\n",
       "Name: Date of Birth, Length: 23947, dtype: datetime64[ns]"
      ]
     },
     "execution_count": 31,
     "metadata": {},
     "output_type": "execute_result"
    }
   ],
   "source": [
    "all['Date of Birth']"
   ]
  },
  {
   "cell_type": "code",
   "execution_count": 33,
   "id": "01ecd538-8761-4b7e-8dec-6c9e87be308f",
   "metadata": {},
   "outputs": [
    {
     "data": {
      "text/plain": [
       "0        1\n",
       "1        3\n",
       "2        2\n",
       "3        1\n",
       "4        2\n",
       "        ..\n",
       "23942    0\n",
       "23943    2\n",
       "23944    2\n",
       "23945    3\n",
       "23946    0\n",
       "Name: Age, Length: 23947, dtype: int32"
      ]
     },
     "execution_count": 33,
     "metadata": {},
     "output_type": "execute_result"
    }
   ],
   "source": [
    "current_date = datetime.now()\n",
    "all['Age'] = ((current_date - all['Date of Birth']).dt.total_seconds() / (365.25 * 24 * 60 * 60)).astype(int)\n",
    "all['Age']"
   ]
  },
  {
   "cell_type": "code",
   "execution_count": 36,
   "id": "06d327e6-cadc-44a5-af37-3dd672d5d973",
   "metadata": {},
   "outputs": [
    {
     "data": {
      "text/plain": [
       "array([1, 3, 2, 0, 4])"
      ]
     },
     "execution_count": 36,
     "metadata": {},
     "output_type": "execute_result"
    }
   ],
   "source": [
    "all['Age'].unique()"
   ]
  },
  {
   "cell_type": "code",
   "execution_count": 39,
   "id": "dd945c67-4117-4841-9e44-e62107c782ad",
   "metadata": {},
   "outputs": [
    {
     "data": {
      "text/plain": [
       "Age\n",
       "0    95.0\n",
       "1    95.0\n",
       "2    88.0\n",
       "3    85.0\n",
       "4    82.0\n",
       "Name: Adaptive Developmental Quotient, dtype: float64"
      ]
     },
     "execution_count": 39,
     "metadata": {},
     "output_type": "execute_result"
    }
   ],
   "source": [
    "all.groupby(['Age'])['Adaptive Developmental Quotient'].median()"
   ]
  },
  {
   "cell_type": "code",
   "execution_count": 40,
   "id": "671d0a2f-b0da-4450-ab2d-5f06dfbfc958",
   "metadata": {},
   "outputs": [
    {
     "data": {
      "text/plain": [
       "Age\n",
       "0     97.0\n",
       "1    100.0\n",
       "2     94.0\n",
       "3     92.0\n",
       "4     92.0\n",
       "Name: Social-Emotional Developmental Quotient, dtype: float64"
      ]
     },
     "execution_count": 40,
     "metadata": {},
     "output_type": "execute_result"
    }
   ],
   "source": [
    "all.groupby(['Age'])['Social-Emotional Developmental Quotient'].median()"
   ]
  },
  {
   "cell_type": "code",
   "execution_count": 41,
   "id": "89c82027-5d00-4d6e-ab40-c93dee656569",
   "metadata": {},
   "outputs": [
    {
     "data": {
      "text/plain": [
       "Age\n",
       "0    100.0\n",
       "1     88.0\n",
       "2     76.0\n",
       "3     73.0\n",
       "4     73.0\n",
       "Name: Communication Developmental Quotient, dtype: float64"
      ]
     },
     "execution_count": 41,
     "metadata": {},
     "output_type": "execute_result"
    }
   ],
   "source": [
    "all.groupby(['Age'])['Communication Developmental Quotient'].median()"
   ]
  },
  {
   "cell_type": "code",
   "execution_count": 42,
   "id": "f327caff-3345-41f9-b8a5-24c8aaba1830",
   "metadata": {},
   "outputs": [
    {
     "data": {
      "text/plain": [
       "Age\n",
       "0    100.0\n",
       "1     94.0\n",
       "2     98.0\n",
       "3     94.0\n",
       "4     87.0\n",
       "Name: Motor Developmental Quotient, dtype: float64"
      ]
     },
     "execution_count": 42,
     "metadata": {},
     "output_type": "execute_result"
    }
   ],
   "source": [
    "all.groupby(['Age'])['Motor Developmental Quotient'].median()"
   ]
  },
  {
   "cell_type": "code",
   "execution_count": 43,
   "id": "3698feaf-9359-4f70-a11c-f71a6a3081aa",
   "metadata": {},
   "outputs": [
    {
     "data": {
      "text/plain": [
       "Age\n",
       "0    97.0\n",
       "1    97.0\n",
       "2    88.0\n",
       "3    86.0\n",
       "4    80.0\n",
       "Name: Cognitive Developmental Quotient, dtype: float64"
      ]
     },
     "execution_count": 43,
     "metadata": {},
     "output_type": "execute_result"
    }
   ],
   "source": [
    "all.groupby(['Age'])['Cognitive Developmental Quotient'].median()"
   ]
  },
  {
   "cell_type": "code",
   "execution_count": null,
   "id": "2418b717-1658-4b08-84e7-c77689bc388d",
   "metadata": {},
   "outputs": [],
   "source": []
  }
 ],
 "metadata": {
  "kernelspec": {
   "display_name": "Python 3 (ipykernel)",
   "language": "python",
   "name": "python3"
  },
  "language_info": {
   "codemirror_mode": {
    "name": "ipython",
    "version": 3
   },
   "file_extension": ".py",
   "mimetype": "text/x-python",
   "name": "python",
   "nbconvert_exporter": "python",
   "pygments_lexer": "ipython3",
   "version": "3.10.13"
  }
 },
 "nbformat": 4,
 "nbformat_minor": 5
}
