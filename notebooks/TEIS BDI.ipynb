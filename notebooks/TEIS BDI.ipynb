{
 "cells": [
  {
   "cell_type": "code",
   "execution_count": 2,
   "id": "dfe5b811",
   "metadata": {},
   "outputs": [],
   "source": [
    "import pandas as pd   \n",
    "import numpy as np  \n",
    "import matplotlib.pyplot as plt  \n",
    "import seaborn as sns"
   ]
  },
  {
   "cell_type": "code",
   "execution_count": 6,
   "id": "d9b32038",
   "metadata": {},
   "outputs": [],
   "source": [
    "BDI3_df = pd.read_excel('../data/BDI3 All Evals for NSS 11-2023.xlsx', index_col=0) "
   ]
  },
  {
   "cell_type": "code",
   "execution_count": 8,
   "id": "38663c42",
   "metadata": {},
   "outputs": [
    {
     "name": "stdout",
     "output_type": "stream",
     "text": [
      "<class 'pandas.core.frame.DataFrame'>\n",
      "Index: 23947 entries, 44879 to SP03291\n",
      "Columns: 218 entries, Gender to Code 10\n",
      "dtypes: datetime64[ns](14), float64(79), object(125)\n",
      "memory usage: 40.0+ MB\n"
     ]
    }
   ],
   "source": [
    "BDI3_df.info()"
   ]
  },
  {
   "cell_type": "code",
   "execution_count": 15,
   "id": "4fc1f3a3",
   "metadata": {},
   "outputs": [
    {
     "data": {
      "text/plain": [
       "Index(['Gender', 'Date of Birth', 'Location - Sub Level 1', 'Program Label',\n",
       "       'Adaptive Sum of Scaled Scores', 'Adaptive Developmental Quotient',\n",
       "       'Adaptive Percentile Rank', 'Adaptive 95% Confidence Interval',\n",
       "       'Adaptive RDI', 'Adaptive Z-Score',\n",
       "       ...\n",
       "       'Code 1', 'Code 2', 'Code 3', 'Code 4', 'Code 5', 'Code 6', 'Code 7',\n",
       "       'Code 8', 'Code 9', 'Code 10'],\n",
       "      dtype='object', length=218)"
      ]
     },
     "execution_count": 15,
     "metadata": {},
     "output_type": "execute_result"
    }
   ],
   "source": [
    "BDI3_df.columns"
   ]
  },
  {
   "cell_type": "markdown",
   "id": "dd6b846a",
   "metadata": {},
   "source": [
    "1.EDA"
   ]
  },
  {
   "cell_type": "code",
   "execution_count": 10,
   "id": "af58c929",
   "metadata": {},
   "outputs": [
    {
     "name": "stdout",
     "output_type": "stream",
     "text": [
      "<class 'pandas.core.series.Series'>\n",
      "Index: 23947 entries, 44879 to SP03291\n",
      "Series name: Program Label\n",
      "Non-Null Count  Dtype \n",
      "--------------  ----- \n",
      "23947 non-null  object\n",
      "dtypes: object(1)\n",
      "memory usage: 374.2+ KB\n",
      "None\n"
     ]
    }
   ],
   "source": [
    "print(BDI3_DF['Program Label'].info())"
   ]
  },
  {
   "cell_type": "markdown",
   "id": "ed9b9d9c",
   "metadata": {},
   "source": [
    "checking null value of column Program Label"
   ]
  },
  {
   "cell_type": "code",
   "execution_count": 11,
   "id": "639bde2f",
   "metadata": {},
   "outputs": [
    {
     "name": "stdout",
     "output_type": "stream",
     "text": [
      "0\n"
     ]
    }
   ],
   "source": [
    "print(BDI3_DF['Program Label'].isnull().sum())"
   ]
  },
  {
   "cell_type": "markdown",
   "id": "f1f0bc9a",
   "metadata": {},
   "source": [
    "checking duplicate values"
   ]
  },
  {
   "cell_type": "code",
   "execution_count": 13,
   "id": "4b87b0e2",
   "metadata": {},
   "outputs": [
    {
     "name": "stdout",
     "output_type": "stream",
     "text": [
      "23944\n"
     ]
    }
   ],
   "source": [
    "print(BDI3_DF['Program Label'].duplicated().sum())"
   ]
  },
  {
   "cell_type": "code",
   "execution_count": 16,
   "id": "6a56b13f",
   "metadata": {},
   "outputs": [
    {
     "name": "stdout",
     "output_type": "stream",
     "text": [
      "         Gender Date of Birth Location - Sub Level 1  \\\n",
      "Child ID                                               \n",
      "44879         F    2022-09-27              Southwest   \n",
      "47795         F    2020-12-23      Greater Nashville   \n",
      "54340         M    2021-06-22        First Tennessee   \n",
      "54344         F    2022-03-07    Southeast Tennessee   \n",
      "54515         M    2021-11-04          Memphis Delta   \n",
      "...         ...           ...                    ...   \n",
      "SP03287       F    2023-09-25          Memphis Delta   \n",
      "SP03288       F    2021-05-18          South Central   \n",
      "SP03289       F    2021-10-31          South Central   \n",
      "SP03290       M    2020-03-25          Memphis Delta   \n",
      "SP03291       M    2023-09-18      Greater Nashville   \n",
      "\n",
      "                         Program Label  Adaptive Sum of Scaled Scores  \\\n",
      "Child ID                                                                \n",
      "44879     BDI-3 Eligibility Evaluation                            7.0   \n",
      "47795     BDI-3 Eligibility Evaluation                           16.0   \n",
      "54340     BDI-3 Eligibility Evaluation                            8.0   \n",
      "54344     BDI-3 Eligibility Evaluation                           13.0   \n",
      "54515     BDI-3 Eligibility Evaluation                            5.0   \n",
      "...                                ...                            ...   \n",
      "SP03287   BDI-3 Eligibility Evaluation                           13.0   \n",
      "SP03288   BDI-3 Eligibility Evaluation                           25.0   \n",
      "SP03289   BDI-3 Eligibility Evaluation                           21.0   \n",
      "SP03290        BDI-3 Annual Evaluation                           16.0   \n",
      "SP03291   BDI-3 Eligibility Evaluation                           11.0   \n",
      "\n",
      "          Adaptive Developmental Quotient Adaptive Percentile Rank  \\\n",
      "Child ID                                                             \n",
      "44879                                85.0                       16   \n",
      "47795                                88.0                       21   \n",
      "54340                                90.0                       25   \n",
      "54344                               115.0                       84   \n",
      "54515                                75.0                        5   \n",
      "...                                   ...                      ...   \n",
      "SP03287                             115.0                       84   \n",
      "SP03288                             115.0                       84   \n",
      "SP03289                             103.0                       58   \n",
      "SP03290                              88.0                       21   \n",
      "SP03291                             105.0                       63   \n",
      "\n",
      "         Adaptive 95% Confidence Interval         Adaptive RDI  \\\n",
      "Child ID                                                         \n",
      "44879                               77-97                39/90   \n",
      "47795                               82-96                79/90   \n",
      "54340                              81-101                77/90   \n",
      "54344                             103-123                99/90   \n",
      "54515                               68-88  1990-09-01 00:00:00   \n",
      "...                                   ...                  ...   \n",
      "SP03287                           103-123                99/90   \n",
      "SP03288                           107-121                96/90   \n",
      "SP03289                            96-110                92/90   \n",
      "SP03290                             82-96                66/90   \n",
      "SP03291                            94-114                94/90   \n",
      "\n",
      "         Adaptive Z-Score  ...  Code 1 Code 2  Code 3  Code 4 Code 5 Code 6  \\\n",
      "Child ID                   ...                                                \n",
      "44879              – 1.00  ...     NaN    NaN     NaN     NaN    NaN    NaN   \n",
      "47795              – 0.80  ...     NaN    NaN     NaN     NaN    NaN    NaN   \n",
      "54340              – 0.67  ...     NaN    NaN     NaN     NaN    NaN    NaN   \n",
      "54344                   1  ...     NaN    NaN     NaN     NaN    NaN    NaN   \n",
      "54515              – 1.67  ...     NaN    NaN     NaN     NaN    NaN    NaN   \n",
      "...                   ...  ...     ...    ...     ...     ...    ...    ...   \n",
      "SP03287                 1  ...     NaN    NaN     NaN     NaN    NaN    NaN   \n",
      "SP03288                 1  ...     NaN    NaN     NaN     NaN    NaN    NaN   \n",
      "SP03289               0.2  ...     NaN    NaN     NaN     NaN    NaN    NaN   \n",
      "SP03290            – 0.80  ...     NaN    NaN     NaN     NaN    NaN    NaN   \n",
      "SP03291              0.33  ...     NaN    NaN     NaN     NaN    NaN    NaN   \n",
      "\n",
      "         Code 7 Code 8  Code 9 Code 10  \n",
      "Child ID                                \n",
      "44879       NaN    NaN     NaN     NaN  \n",
      "47795       NaN    NaN     NaN     NaN  \n",
      "54340       NaN    NaN     NaN     NaN  \n",
      "54344       NaN    NaN     NaN     NaN  \n",
      "54515       NaN    NaN     NaN     NaN  \n",
      "...         ...    ...     ...     ...  \n",
      "SP03287     NaN    NaN     NaN     NaN  \n",
      "SP03288     NaN    NaN     NaN     NaN  \n",
      "SP03289     NaN    NaN     NaN     NaN  \n",
      "SP03290     NaN    NaN     NaN     NaN  \n",
      "SP03291     NaN    NaN     NaN     NaN  \n",
      "\n",
      "[23947 rows x 218 columns]\n"
     ]
    },
    {
     "ename": "TypeError",
     "evalue": "'NoneType' object is not subscriptable",
     "output_type": "error",
     "traceback": [
      "\u001b[1;31m---------------------------------------------------------------------------\u001b[0m",
      "\u001b[1;31mTypeError\u001b[0m                                 Traceback (most recent call last)",
      "Cell \u001b[1;32mIn[16], line 1\u001b[0m\n\u001b[1;32m----> 1\u001b[0m \u001b[38;5;28mprint\u001b[39m(BDI3_DF)[\u001b[38;5;124m'\u001b[39m\u001b[38;5;124mChild ID\u001b[39m\u001b[38;5;124m'\u001b[39m]\u001b[38;5;241m.\u001b[39mvalue_couts()\u001b[38;5;241m.\u001b[39mhead()\n",
      "\u001b[1;31mTypeError\u001b[0m: 'NoneType' object is not subscriptable"
     ]
    }
   ],
   "source": [
    "print(BDI3_DF)['Child ID'].value_couts().head()\n"
   ]
  },
  {
   "cell_type": "code",
   "execution_count": null,
   "id": "e4d5966b",
   "metadata": {},
   "outputs": [],
   "source": []
  }
 ],
 "metadata": {
  "kernelspec": {
   "display_name": "Python 3 (ipykernel)",
   "language": "python",
   "name": "python3"
  },
  "language_info": {
   "codemirror_mode": {
    "name": "ipython",
    "version": 3
   },
   "file_extension": ".py",
   "mimetype": "text/x-python",
   "name": "python",
   "nbconvert_exporter": "python",
   "pygments_lexer": "ipython3",
   "version": "3.11.5"
  }
 },
 "nbformat": 4,
 "nbformat_minor": 5
}
